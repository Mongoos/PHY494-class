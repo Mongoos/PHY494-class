{
 "cells": [
  {
   "cell_type": "code",
   "execution_count": 57,
   "metadata": {
    "collapsed": false
   },
   "outputs": [],
   "source": [
    "import numpy as np\n",
    "t = np.array([0.1, 1, 100])\n",
    "y_t = np.cos"
   ]
  },
  {
   "cell_type": "code",
   "execution_count": 61,
   "metadata": {
    "collapsed": false
   },
   "outputs": [
    {
     "name": "stdout",
     "output_type": "stream",
     "text": [
      "[-0.09983342 -0.84147098  0.50636564]\n"
     ]
    }
   ],
   "source": [
    "g_t = -np.sin(t)\n",
    "print (g_t)\n",
    "h = range()"
   ]
  },
  {
   "cell_type": "code",
   "execution_count": 60,
   "metadata": {
    "collapsed": false
   },
   "outputs": [
    {
     "name": "stdout",
     "output_type": "stream",
     "text": [
      "[  4.98330544e-04   3.21029639e-05  -8.51494805e-05]\n"
     ]
    }
   ],
   "source": [
    "Err = (D_fd(y_t, t, h) - g_t)/g_t\n",
    "print (Err)"
   ]
  },
  {
   "cell_type": "code",
   "execution_count": null,
   "metadata": {
    "collapsed": true
   },
   "outputs": [],
   "source": [
    "def D_fd(y_t, t, h):\n",
    "    \"\"\"Forward difference\"\"\"\n",
    "    return (y_t(t + h) - y_t(t))/h\n",
    "\n",
    "def D_cd(y_t, t, h):\n",
    "    \"\"\"Central difference\"\"\"\n",
    "    return (y_t(t+(h/2))-y_t(t-(h/2)))/h\n",
    "\n",
    "def D_ep(y_t, t, h):\n",
    "    \"\"\"Extended difference\"\"\"\n",
    "    return (8*(y_t(t+(h/4))-y_t(t-(h/4)))-(y_t(t+(h/2))-y_t(t-(h/2))))/(3 * h)"
   ]
  },
  {
   "cell_type": "code",
   "execution_count": 63,
   "metadata": {
    "collapsed": true
   },
   "outputs": [],
   "source": [
    "import numpy as np\n",
    "# test function\n",
    "y = np.cos\n",
    "\n",
    "# Analytical derivative (use np.cos, np.sin, np.exp or whatever else you need)\n",
    "def y2(t):\n",
    "    return -np.sin(t)\n",
    "    pass\n",
    "\n",
    "t_values = np.array([0.1, 1, 100], dtype=np.float64)"
   ]
  },
  {
   "cell_type": "code",
   "execution_count": null,
   "metadata": {
    "collapsed": true
   },
   "outputs": [],
   "source": [
    "D_fd(y, t_values, 0.1)"
   ]
  }
 ],
 "metadata": {
  "kernelspec": {
   "display_name": "Python 3",
   "language": "python",
   "name": "python3"
  },
  "language_info": {
   "codemirror_mode": {
    "name": "ipython",
    "version": 3
   },
   "file_extension": ".py",
   "mimetype": "text/x-python",
   "name": "python",
   "nbconvert_exporter": "python",
   "pygments_lexer": "ipython3",
   "version": "3.5.1"
  }
 },
 "nbformat": 4,
 "nbformat_minor": 0
}
